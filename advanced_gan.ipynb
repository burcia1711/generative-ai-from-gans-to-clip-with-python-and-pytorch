{
  "nbformat": 4,
  "nbformat_minor": 0,
  "metadata": {
    "colab": {
      "provenance": []
    },
    "kernelspec": {
      "name": "python3",
      "display_name": "Python 3"
    },
    "language_info": {
      "name": "python"
    }
  },
  "cells": [
    {
      "cell_type": "markdown",
      "source": [
        "**mode collapse:** generator stuck in a single mode (peak of the distribution)\n",
        "\n",
        "**loss value meaning:** not a good correlation between the loss value and the quality of the generated results\n",
        "\n",
        "**bce loss problems -** flat gradients\n",
        "\n",
        "we'll use **the wasserstein loss** instead of binary cross entropy.\n",
        "\n",
        "**earth mover distance:** the effort needed to make both real and generated distributions equal."
      ],
      "metadata": {
        "id": "uEpXvJpNAhVU"
      }
    },
    {
      "cell_type": "code",
      "execution_count": 3,
      "metadata": {
        "id": "1pqS17Ro9ZPN"
      },
      "outputs": [],
      "source": [
        "# coding an advanced GAN from scratch in python + pytorch\n",
        "# importing the libraries\n",
        "\n",
        "import torch, torchvision, os, PIL, pdb # pytorch and torchvision are for datasets and image transforms, os if for file handling, pil is for image processing, and pdb if for debugging\n",
        "from torch import nn # neural network module\n",
        "from torch.utils.data import Dataset # dataset class and data loader to create custom datasets and load them in batches\n",
        "from torch.utils.data import DataLoader\n",
        "from torchvision import transforms # transforms module from torchvision to apply image preprocessing\n",
        "from torchvision.utils import make_grid # function to create a grid of images for visualisation\n",
        "from tqdm.auto import tqdm # progress bar tool for loops\n",
        "import matplotlib.pyplot as plt # for plotting images and graphs\n",
        "import numpy as np # for numerical operations\n",
        "from PIL import Image # image module from pillow for image loading and handling"
      ]
    },
    {
      "cell_type": "code",
      "source": [
        "def show(tensor, num = 25, wandb = 0, name = ''):\n",
        "  data = tensor.detach().cpu()\n",
        "  grid = make_grid(data[:num], nrow = 5).permute(1, 2, 0)\n",
        "\n",
        "  # optional\n",
        "  if (wandb == 1 and wandbact ==1):\n",
        "    wandb.log({name: wandb.Image(grid.numpy().clip(9,1))})\n",
        "\n",
        "  plt.imshow(grid.clip(0, 1))\n",
        "  plt.show()\n",
        "\n",
        "  #hyperparameters and general parameters\n",
        "  n_epochs = 100000\n",
        "  batch_size = 128\n",
        "  lr = 1e-4\n",
        "  z_dim = 200\n",
        "  device = 'cuda' # GPU\n",
        "\n",
        "  cur_step = 0\n",
        "  crit_cycles = 5\n",
        "  gen_losses = []\n",
        "  crit_losses = []\n",
        "  show_step = 35\n",
        "  save_step = 35\n",
        "\n",
        "  wandbact = 1 # yes we want to track stats through weights and biases, optional"
      ],
      "metadata": {
        "id": "My-ARoryrNFP"
      },
      "execution_count": 4,
      "outputs": []
    }
  ]
}